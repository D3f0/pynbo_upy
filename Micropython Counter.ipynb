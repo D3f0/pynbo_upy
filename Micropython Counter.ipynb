{
 "cells": [
  {
   "cell_type": "code",
   "execution_count": 5,
   "metadata": {},
   "outputs": [],
   "source": [
    "# Checks the docs!!!\n",
    "from ipywidgets import widgets"
   ]
  },
  {
   "cell_type": "code",
   "execution_count": 15,
   "metadata": {},
   "outputs": [],
   "source": [
    "lights = [\n",
    "    widgets.Label(value=f'⚫️')\n",
    "    for i in range(4)\n",
    "]"
   ]
  },
  {
   "cell_type": "code",
   "execution_count": 16,
   "metadata": {},
   "outputs": [],
   "source": [
    "class FakePin:\n",
    "    def __init__(self, number, widget: widgets.Widget):\n",
    "        self._number = number\n",
    "        self._value = False\n",
    "        self._widget = widget\n",
    "\n",
    "    def value(self, value=None):\n",
    "        \"\"\"\n",
    "        If called with no argument, returns the value, if called with argument, \n",
    "        sets the value\n",
    "        \"\"\"\n",
    "        if value is None:\n",
    "            return self._value\n",
    "        elif isinstance(value, int):\n",
    "            self._value = bool(value)\n",
    "        elif isinstance(value, str):\n",
    "            if value == 'on':\n",
    "                self._value = True\n",
    "            elif value == 'off':\n",
    "                self._value = False\n",
    "            else:\n",
    "                raise ValueError(value)\n",
    "        elif isinstance(value, bool):\n",
    "            self._value = value\n",
    "        else:\n",
    "            raise ValueError(\"Cannot set pin to %s\" % value)\n",
    "        self.show_value()\n",
    "\n",
    "    def show_value(self):\n",
    "        self._widget.value = '⚫️' if not self._value else '⚪️'\n"
   ]
  },
  {
   "cell_type": "code",
   "execution_count": null,
   "metadata": {},
   "outputs": [],
   "source": [
    "pin12 = FakePin(0, )\n",
    "pin14 = FakePin(1)\n",
    "pin16 = FakePin(2)"
   ]
  },
  {
   "cell_type": "code",
   "execution_count": 14,
   "metadata": {},
   "outputs": [
    {
     "data": {
      "application/vnd.jupyter.widget-view+json": {
       "model_id": "895f271145f149d486416c770ad0022a",
       "version_major": 2,
       "version_minor": 0
      },
      "text/plain": [
       "HBox(children=(Label(value='\\U0001f975'), Label(value='\\U0001f975'), Label(value='\\U0001f975'), Label(value='\\…"
      ]
     },
     "metadata": {},
     "output_type": "display_data"
    }
   ],
   "source": [
    "widgets.HBox(lights)"
   ]
  },
  {
   "cell_type": "code",
   "execution_count": 7,
   "metadata": {},
   "outputs": [
    {
     "data": {
      "application/vnd.jupyter.widget-view+json": {
       "model_id": "d87be8db4a7d44f78f1d26cbecd68f23",
       "version_major": 2,
       "version_minor": 0
      },
      "text/plain": [
       "Label(value='')"
      ]
     },
     "metadata": {},
     "output_type": "display_data"
    }
   ],
   "source": [
    "display(l)"
   ]
  },
  {
   "cell_type": "code",
   "execution_count": 9,
   "metadata": {},
   "outputs": [],
   "source": [
    "l.value = 'bye'"
   ]
  },
  {
   "cell_type": "code",
   "execution_count": 4,
   "metadata": {},
   "outputs": [
    {
     "name": "stdout",
     "output_type": "stream",
     "text": [
      "⚫️⚫️⚫️\n",
      "\n",
      "⚪️⚫️⚫️\n",
      "\n",
      "⚫️⚪️⚫️\n",
      "\n",
      "⚪️⚪️⚫️\n",
      "\n",
      "⚫️⚫️⚪️\n",
      "\n",
      "⚪️⚫️⚪️\n",
      "\n",
      "⚫️⚪️⚪️\n",
      "\n",
      "⚪️⚪️⚪️\n",
      "\n"
     ]
    }
   ],
   "source": [
    "def dec2bin(dec):\n",
    "    # First bit\n",
    "    pin12.value(bool(dec & 0b0001))\n",
    "    pin14.value(bool(dec & 0b0010))\n",
    "    pin16.value(bool(dec & 0b0100))\n",
    "    \n",
    "for i in range(8):\n",
    "    dec2bin(i)\n",
    "    print('\\n')"
   ]
  },
  {
   "cell_type": "code",
   "execution_count": 10,
   "metadata": {},
   "outputs": [],
   "source": [
    "!open ."
   ]
  },
  {
   "cell_type": "code",
   "execution_count": null,
   "metadata": {},
   "outputs": [],
   "source": []
  }
 ],
 "metadata": {
  "kernelspec": {
   "display_name": "Python 3",
   "language": "python",
   "name": "python3"
  },
  "language_info": {
   "codemirror_mode": {
    "name": "ipython",
    "version": 3
   },
   "file_extension": ".py",
   "mimetype": "text/x-python",
   "name": "python",
   "nbconvert_exporter": "python",
   "pygments_lexer": "ipython3",
   "version": "3.6.6"
  }
 },
 "nbformat": 4,
 "nbformat_minor": 2
}
